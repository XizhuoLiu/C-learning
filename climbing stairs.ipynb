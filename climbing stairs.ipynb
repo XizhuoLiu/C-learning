{
 "cells": [
  {
   "cell_type": "code",
   "execution_count": null,
   "id": "db9cf564-d160-4f0d-93f9-c6d42898e421",
   "metadata": {},
   "outputs": [],
   "source": [
    "class Solution {\n",
    "public:\n",
    "    int climbStairs(int n) {\n",
    "        if n <= 2 return n;  #f1=1, f2=2\n",
    "\n",
    "        int a = 1; #f1\n",
    "        int b = 2; #f2\n",
    "        int c = 0;\n",
    "\n",
    "        for (int i = 3; i <= n; ++i){\n",
    "            c = a + b; # fi = fi-2 + fi-1; f3 = f1 + f2\n",
    "            a = b;\n",
    "            b = c;\n",
    "    }\n",
    "        return b;\n",
    "};"
   ]
  }
 ],
 "metadata": {
  "kernelspec": {
   "display_name": "Python 3 (ipykernel)",
   "language": "python",
   "name": "python3"
  },
  "language_info": {
   "codemirror_mode": {
    "name": "ipython",
    "version": 3
   },
   "file_extension": ".py",
   "mimetype": "text/x-python",
   "name": "python",
   "nbconvert_exporter": "python",
   "pygments_lexer": "ipython3",
   "version": "3.12.4"
  }
 },
 "nbformat": 4,
 "nbformat_minor": 5
}
