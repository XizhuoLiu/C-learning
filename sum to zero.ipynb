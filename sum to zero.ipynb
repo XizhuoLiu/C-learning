{
 "cells": [
  {
   "cell_type": "code",
   "execution_count": null,
   "id": "a811ee9e-1d07-41e3-a02c-c764c285b94e",
   "metadata": {},
   "outputs": [],
   "source": [
    "class Solution {\n",
    "public:\n",
    "    vector<int> sumZero(int n) {\n",
    "        vector<int> res;\n",
    "        for (int i = 1; i <= n / 2; ++1){\n",
    "            res.push_back(i);\n",
    "            res.push_back(-i);\n",
    "    }\n",
    "        if (n % 2 == 1){\n",
    "            res.push_back(0);\n",
    "        }\n",
    "        return res;\n",
    "};"
   ]
  }
 ],
 "metadata": {
  "kernelspec": {
   "display_name": "Python 3 (ipykernel)",
   "language": "python",
   "name": "python3"
  },
  "language_info": {
   "codemirror_mode": {
    "name": "ipython",
    "version": 3
   },
   "file_extension": ".py",
   "mimetype": "text/x-python",
   "name": "python",
   "nbconvert_exporter": "python",
   "pygments_lexer": "ipython3",
   "version": "3.12.4"
  }
 },
 "nbformat": 4,
 "nbformat_minor": 5
}
