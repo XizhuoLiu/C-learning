{
 "cells": [
  {
   "cell_type": "code",
   "execution_count": null,
   "id": "83b44171-8458-420a-95f2-1bba8ce1e148",
   "metadata": {},
   "outputs": [],
   "source": [
    "/**\n",
    " * Definition for singly-linked list.\n",
    " * struct ListNode {\n",
    " *     int val;\n",
    " *     ListNode *next;\n",
    " *     ListNode() : val(0), next(nullptr) {}\n",
    " *     ListNode(int x) : val(x), next(nullptr) {}\n",
    " *     ListNode(int x, ListNode *next) : val(x), next(next) {}\n",
    " * };\n",
    " */\n",
    "class Solution {\n",
    "public:\n",
    "    ListNode* addTwoNumbers(ListNode* l1, ListNode* l2) {\n",
    "        ListNode dummy(0);\n",
    "        ListNode* curr = &dummy;\n",
    "        int carry = 0;\n",
    "\n",
    "        while (l1 != nullptr || l2 != nullptr || carry != 0){\n",
    "            int x = (l1 != nullptr) ? l1 -> val : 0;\n",
    "            int y = (l2 != nullptr) ? l2 -> val : 0;\n",
    "            int total = x + y + carry;\n",
    "\n",
    "            carry = total / 10;\n",
    "            int digit = total % 10;\n",
    "\n",
    "            curr->next = new ListNode(digit);\n",
    "            curr = curr->next;\n",
    "\n",
    "            if (l1) l1 = l1->next;\n",
    "            if (l2) l2 = l2->next;\n",
    "        }\n",
    "        return dummy\n",
    "    }\n",
    "};"
   ]
  }
 ],
 "metadata": {
  "kernelspec": {
   "display_name": "Python 3 (ipykernel)",
   "language": "python",
   "name": "python3"
  },
  "language_info": {
   "codemirror_mode": {
    "name": "ipython",
    "version": 3
   },
   "file_extension": ".py",
   "mimetype": "text/x-python",
   "name": "python",
   "nbconvert_exporter": "python",
   "pygments_lexer": "ipython3",
   "version": "3.12.4"
  }
 },
 "nbformat": 4,
 "nbformat_minor": 5
}
